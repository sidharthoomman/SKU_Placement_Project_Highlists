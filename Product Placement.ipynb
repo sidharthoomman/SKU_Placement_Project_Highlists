import sqlite3
import random
import pandas as pd

# Step 1: Initialize database and create tables
conn = sqlite3.connect('store_placement.db')
cursor = conn.cursor()

# Create aisles table
cursor.execute('''
CREATE TABLE IF NOT EXISTS aisles (
    aisle_id INTEGER PRIMARY KEY,
    row INTEGER,
    part INTEGER,
    score INTEGER
);
''')

# Create SKUs table
cursor.execute('''
CREATE TABLE IF NOT EXISTS skus (
    sku_id INTEGER PRIMARY KEY,
    name TEXT,
    premium BOOLEAN
);
''')

# Create placement table
cursor.execute('''
CREATE TABLE IF NOT EXISTS placements (
    sku_id INTEGER,
    aisle_id INTEGER,
    FOREIGN KEY (sku_id) REFERENCES skus(sku_id),
    FOREIGN KEY (aisle_id) REFERENCES aisles(aisle_id)
);
''')

# Step 2: Populate aisles table
cursor.executemany(
    '''INSERT INTO aisles (aisle_id, row, part, score) VALUES (?, ?, ?, ?)''',
    [
        (row * 15 + part + 1, row + 1, part + 1, random.randint(0, 100))
        for row in range(5) for part in range(15)
    ]
)

# Step 3: Populate SKUs table
skus = [(i + 1, f"Product_{i + 1}", random.choice([True, False])) for i in range(100)]
cursor.executemany('INSERT INTO skus (sku_id, name, premium) VALUES (?, ?, ?)', skus)

# Step 4: Assign SKUs to aisles based on Rule 1
# Premium SKUs get higher score aisles
premium_aisles = cursor.execute('SELECT aisle_id FROM aisles WHERE score > 50').fetchall()
non_premium_aisles = cursor.execute('SELECT aisle_id FROM aisles WHERE score <= 50').fetchall()

placements = []
for sku in skus:
    sku_id, _, is_premium = sku
    if is_premium:
        aisle_id = random.choice(premium_aisles)[0]
    else:
        aisle_id = random.choice(non_premium_aisles)[0]
    placements.append((sku_id, aisle_id))

cursor.executemany('INSERT INTO placements (sku_id, aisle_id) VALUES (?, ?)', placements)

# Commit and close
conn.commit()

# Step 5: Visualize placements
df = pd.read_sql_query('''
SELECT 
    s.sku_id, 
    s.name AS sku_name, 
    s.premium AS is_premium, 
    a.row, 
    a.part, 
    a.score
FROM 
    placements p
JOIN 
    skus s ON p.sku_id = s.sku_id
JOIN 
    aisles a ON p.aisle_id = a.aisle_id
ORDER BY 
    s.sku_id
''', conn)

import ace_tools as tools
tools.display_dataframe_to_user(name="Product Placement Assignments", dataframe=df)

conn.close()
